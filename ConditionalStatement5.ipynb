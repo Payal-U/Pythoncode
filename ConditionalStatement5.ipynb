{
 "cells": [
  {
   "cell_type": "code",
   "execution_count": 1,
   "id": "cc658723",
   "metadata": {},
   "outputs": [
    {
     "name": "stdout",
     "output_type": "stream",
     "text": [
      "Enter the marks of student:58\n",
      "Grade:C\n"
     ]
    }
   ],
   "source": [
    "M=int(input(\"Enter the marks of student:\"))\n",
    "if M<25:\n",
    "   print(\"Grade:F\")\n",
    "elif M>=25 and M<45:\n",
    "   print(\"Grade:E\")\n",
    "elif M>=45 and M<50:\n",
    "   print(\"Grade:D\")\n",
    "elif M>=50 and M<60:\n",
    "   print(\"Grade:C\")\n",
    "elif M>=60 and M<80:\n",
    "   print(\"Grade:B\")\n",
    "elif M>80 and M<100:\n",
    "   print(\"Grade A\")\n",
    "else:\n",
    "   print(\"Invaid entry\")"
   ]
  },
  {
   "cell_type": "code",
   "execution_count": null,
   "id": "f3ef69da",
   "metadata": {},
   "outputs": [],
   "source": []
  }
 ],
 "metadata": {
  "kernelspec": {
   "display_name": "Python 3 (ipykernel)",
   "language": "python",
   "name": "python3"
  },
  "language_info": {
   "codemirror_mode": {
    "name": "ipython",
    "version": 3
   },
   "file_extension": ".py",
   "mimetype": "text/x-python",
   "name": "python",
   "nbconvert_exporter": "python",
   "pygments_lexer": "ipython3",
   "version": "3.9.13"
  }
 },
 "nbformat": 4,
 "nbformat_minor": 5
}
