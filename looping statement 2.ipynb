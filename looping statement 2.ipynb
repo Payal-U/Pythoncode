{
 "cells": [
  {
   "cell_type": "code",
   "execution_count": 2,
   "id": "31d0f3ba",
   "metadata": {},
   "outputs": [
    {
     "name": "stdout",
     "output_type": "stream",
     "text": [
      "56565\n",
      "it is palindrome\n"
     ]
    }
   ],
   "source": [
    "num=(input(\"Enter the humber:\"))\n",
    "res=num[::-1]\n",
    "if (num==res):\n",
    "    print(\"it is palindrome\")\n",
    "else:\n",
    "    print(\"it is not palindrome\")    "
   ]
  },
  {
   "cell_type": "code",
   "execution_count": 27,
   "id": "b0ba36ee",
   "metadata": {},
   "outputs": [
    {
     "name": "stdout",
     "output_type": "stream",
     "text": [
      "Enter the number:8\n",
      "factors are: 1\n",
      "factors are: 2\n",
      "factors are: 4\n",
      "factors are: 8\n"
     ]
    }
   ],
   "source": [
    "N=int(input(\"Enter the number:\"))\n",
    "for x in range (1,N+1):\n",
    "    if N%x==0:\n",
    "        print(\"factors are:\",x)"
   ]
  },
  {
   "cell_type": "code",
   "execution_count": 5,
   "id": "7817f0ae",
   "metadata": {},
   "outputs": [
    {
     "name": "stdout",
     "output_type": "stream",
     "text": [
      "Enter the number:54\n",
      "45\n"
     ]
    }
   ],
   "source": [
    "num=(input(\"Enter the number:\"))\n",
    "res=num[::-1]\n",
    "print(res)"
   ]
  },
  {
   "cell_type": "code",
   "execution_count": 23,
   "id": "c6342936",
   "metadata": {},
   "outputs": [
    {
     "name": "stdout",
     "output_type": "stream",
     "text": [
      "31\n",
      "The reverse of number is 13\n",
      "sum of the number reversed is 4\n"
     ]
    }
   ],
   "source": [
    "num=input()\n",
    "res=(num[::-1])\n",
    "sum=0\n",
    "print(\"The reverse of number is\",res)\n",
    "for i in res:\n",
    "    sum=sum+int(i)\n",
    "print(\"sum of the number reversed is\",sum)"
   ]
  },
  {
   "cell_type": "code",
   "execution_count": 31,
   "id": "457ab564",
   "metadata": {},
   "outputs": [
    {
     "name": "stdout",
     "output_type": "stream",
     "text": [
      "13\n",
      "It is a prime number\n"
     ]
    }
   ],
   "source": [
    "n=int(input())\n",
    "if n<=1:\n",
    " print(\"Number is not a prime number\")\n",
    "else:\n",
    "    #checking factors\n",
    "  for x in range (2,n):\n",
    "    if n%x==0:\n",
    "        print(\"It is not a prime number\")\n",
    "        break\n",
    "  else:\n",
    "    print(\"It is a prime number\") "
   ]
  },
  {
   "cell_type": "code",
   "execution_count": 2,
   "id": "9eb2ac9f",
   "metadata": {},
   "outputs": [
    {
     "name": "stdout",
     "output_type": "stream",
     "text": [
      "2\n",
      "3\n",
      "5\n",
      "7\n",
      "11\n",
      "13\n",
      "17\n",
      "19\n",
      "23\n",
      "29\n",
      "31\n",
      "37\n",
      "41\n",
      "43\n",
      "47\n",
      "53\n",
      "59\n",
      "61\n",
      "67\n",
      "71\n",
      "73\n",
      "79\n",
      "83\n",
      "89\n",
      "97\n"
     ]
    }
   ],
   "source": [
    "#1 is not a prime number\n",
    "for x in range (2,101):\n",
    "    for y in range(2,101):\n",
    "        if x%y ==0:\n",
    "            break\n",
    "    if x==y:\n",
    "        print(x)\n",
    "        "
   ]
  },
  {
   "cell_type": "code",
   "execution_count": 5,
   "id": "53a221c2",
   "metadata": {},
   "outputs": [
    {
     "name": "stdout",
     "output_type": "stream",
     "text": [
      "123456789\n",
      "987654321\n"
     ]
    }
   ],
   "source": [
    "num=input()\n",
    "res=(num[::-1])\n",
    "print(res)"
   ]
  },
  {
   "cell_type": "code",
   "execution_count": 9,
   "id": "5db50fb8",
   "metadata": {},
   "outputs": [
    {
     "name": "stdout",
     "output_type": "stream",
     "text": [
      "9\n",
      "0\n",
      "1\n",
      "8\n",
      "27\n",
      "64\n",
      "125\n",
      "216\n",
      "343\n",
      "512\n",
      "729\n"
     ]
    }
   ],
   "source": [
    "num=int(input())\n",
    "for i in range (num+1):\n",
    "    print(i*i*i)"
   ]
  },
  {
   "cell_type": "code",
   "execution_count": null,
   "id": "5af986c7",
   "metadata": {},
   "outputs": [],
   "source": []
  }
 ],
 "metadata": {
  "kernelspec": {
   "display_name": "Python 3 (ipykernel)",
   "language": "python",
   "name": "python3"
  },
  "language_info": {
   "codemirror_mode": {
    "name": "ipython",
    "version": 3
   },
   "file_extension": ".py",
   "mimetype": "text/x-python",
   "name": "python",
   "nbconvert_exporter": "python",
   "pygments_lexer": "ipython3",
   "version": "3.9.13"
  }
 },
 "nbformat": 4,
 "nbformat_minor": 5
}
