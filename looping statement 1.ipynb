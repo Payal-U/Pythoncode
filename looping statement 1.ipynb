{
 "cells": [
  {
   "cell_type": "code",
   "execution_count": 1,
   "id": "c40e74e1",
   "metadata": {},
   "outputs": [
    {
     "name": "stdout",
     "output_type": "stream",
     "text": [
      "Hello Python\n",
      "Hello Python\n",
      "Hello Python\n",
      "Hello Python\n",
      "Hello Python\n",
      "Hello Python\n",
      "Hello Python\n",
      "Hello Python\n",
      "Hello Python\n",
      "Hello Python\n"
     ]
    }
   ],
   "source": [
    "#TenTimes repeat \"Hello Python\"\n",
    "for i in range(10):\n",
    "    print(\"Hello Python\")"
   ]
  },
  {
   "cell_type": "code",
   "execution_count": 2,
   "id": "a54d8517",
   "metadata": {},
   "outputs": [
    {
     "name": "stdout",
     "output_type": "stream",
     "text": [
      "1\n",
      "2\n",
      "3\n",
      "4\n",
      "5\n",
      "6\n",
      "7\n",
      "8\n",
      "9\n",
      "10\n"
     ]
    }
   ],
   "source": [
    "#print number from 1-10\n",
    "i=1\n",
    "while i<=10:\n",
    "    print(i)\n",
    "    i=i+1"
   ]
  },
  {
   "cell_type": "code",
   "execution_count": 1,
   "id": "0d78e654",
   "metadata": {},
   "outputs": [
    {
     "name": "stdout",
     "output_type": "stream",
     "text": [
      "sum is 55\n"
     ]
    }
   ],
   "source": [
    "sum=0\n",
    "for x in range(1,11):\n",
    "    sum+=x\n",
    "print(\"sum is\",sum)"
   ]
  },
  {
   "cell_type": "code",
   "execution_count": 2,
   "id": "9531d95d",
   "metadata": {},
   "outputs": [
    {
     "name": "stdout",
     "output_type": "stream",
     "text": [
      "6\n",
      "1\n",
      "2\n",
      "3\n",
      "4\n",
      "5\n",
      "6\n"
     ]
    }
   ],
   "source": [
    "N=int(input())\n",
    "for x in range(1,N+1):\n",
    "    print(x)"
   ]
  },
  {
   "cell_type": "code",
   "execution_count": 6,
   "id": "41879390",
   "metadata": {},
   "outputs": [
    {
     "name": "stdout",
     "output_type": "stream",
     "text": [
      "10\n",
      "55\n"
     ]
    }
   ],
   "source": [
    "N=int(input())\n",
    "sum=0\n",
    "for x in range (1,N+1):\n",
    "    sum+=x\n",
    "print(sum)"
   ]
  },
  {
   "cell_type": "code",
   "execution_count": 9,
   "id": "74bd1580",
   "metadata": {},
   "outputs": [
    {
     "name": "stdout",
     "output_type": "stream",
     "text": [
      "12\n",
      "12 x 1 = 12\n",
      "12 x 2 = 24\n",
      "12 x 3 = 36\n",
      "12 x 4 = 48\n",
      "12 x 5 = 60\n",
      "12 x 6 = 72\n",
      "12 x 7 = 84\n",
      "12 x 8 = 96\n",
      "12 x 9 = 108\n",
      "12 x 10 = 120\n"
     ]
    }
   ],
   "source": [
    "N=int(input())\n",
    "for i in range(1,11):\n",
    "    print(N,\"x\",i,\"=\",N*i)"
   ]
  },
  {
   "cell_type": "code",
   "execution_count": 21,
   "id": "478541a4",
   "metadata": {},
   "outputs": [
    {
     "name": "stdout",
     "output_type": "stream",
     "text": [
      "4\n",
      "24\n"
     ]
    }
   ],
   "source": [
    "N=int(input())\n",
    "def factorial(N):\n",
    "    if N==1 or N==0:\n",
    "        return N\n",
    "    else:\n",
    "        return N* factorial(N-1)\n",
    "print(factorial(N))"
   ]
  },
  {
   "cell_type": "code",
   "execution_count": 32,
   "id": "f7a92133",
   "metadata": {},
   "outputs": [
    {
     "name": "stdout",
     "output_type": "stream",
     "text": [
      "2\n",
      "4\n",
      "6\n",
      "8\n",
      "10\n",
      "12\n",
      "14\n",
      "16\n",
      "18\n",
      "20\n",
      "22\n",
      "24\n",
      "26\n",
      "28\n",
      "30\n",
      "32\n",
      "34\n",
      "36\n",
      "38\n",
      "40\n",
      "42\n",
      "44\n",
      "46\n",
      "48\n",
      "50\n",
      "52\n",
      "54\n",
      "56\n",
      "58\n",
      "60\n",
      "62\n",
      "64\n",
      "66\n",
      "68\n",
      "70\n",
      "72\n",
      "74\n",
      "76\n",
      "78\n",
      "80\n",
      "82\n",
      "84\n",
      "86\n",
      "88\n",
      "90\n",
      "92\n",
      "94\n",
      "96\n",
      "98\n",
      "100\n"
     ]
    }
   ],
   "source": [
    "for i in range (1,101):\n",
    "    if i%2==0:\n",
    "       print(i)"
   ]
  },
  {
   "cell_type": "code",
   "execution_count": 37,
   "id": "0f208c6b",
   "metadata": {},
   "outputs": [
    {
     "name": "stdout",
     "output_type": "stream",
     "text": [
      "1\n",
      "3\n",
      "5\n",
      "7\n",
      "9\n",
      "11\n",
      "13\n",
      "15\n",
      "17\n",
      "19\n",
      "21\n",
      "23\n",
      "25\n",
      "27\n",
      "29\n",
      "31\n",
      "33\n",
      "35\n",
      "37\n",
      "39\n",
      "41\n",
      "43\n",
      "45\n",
      "47\n",
      "49\n",
      "51\n",
      "53\n",
      "55\n",
      "57\n",
      "59\n",
      "61\n",
      "63\n",
      "65\n",
      "67\n",
      "69\n",
      "71\n",
      "73\n",
      "75\n",
      "77\n",
      "79\n",
      "81\n",
      "83\n",
      "85\n",
      "87\n",
      "89\n",
      "91\n",
      "93\n",
      "95\n",
      "97\n",
      "99\n"
     ]
    }
   ],
   "source": [
    "for i in range(1,101):\n",
    "    if i%2 != 0:\n",
    "       print(i)"
   ]
  },
  {
   "cell_type": "code",
   "execution_count": null,
   "id": "3f4b2402",
   "metadata": {},
   "outputs": [],
   "source": []
  }
 ],
 "metadata": {
  "kernelspec": {
   "display_name": "Python 3 (ipykernel)",
   "language": "python",
   "name": "python3"
  },
  "language_info": {
   "codemirror_mode": {
    "name": "ipython",
    "version": 3
   },
   "file_extension": ".py",
   "mimetype": "text/x-python",
   "name": "python",
   "nbconvert_exporter": "python",
   "pygments_lexer": "ipython3",
   "version": "3.9.13"
  }
 },
 "nbformat": 4,
 "nbformat_minor": 5
}
