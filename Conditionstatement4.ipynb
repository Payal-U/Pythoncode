{
 "cells": [
  {
   "cell_type": "code",
   "execution_count": 2,
   "id": "de2cb557",
   "metadata": {},
   "outputs": [
    {
     "name": "stdout",
     "output_type": "stream",
     "text": [
      "Enter the salary:50000\n",
      "Enter year of service:7\n",
      "Net bonus amount is 2500.0\n"
     ]
    }
   ],
   "source": [
    "S=int(input(\"Enter the salary:\"))\n",
    "Y=int(input(\"Enter year of service:\"))\n",
    "if Y>5:\n",
    "    print(\"Net bonus amount is\",0.05*S)\n",
    "else:\n",
    "    print(\"No Bonus\")"
   ]
  },
  {
   "cell_type": "code",
   "execution_count": 3,
   "id": "4e4c9d28",
   "metadata": {},
   "outputs": [
    {
     "name": "stdout",
     "output_type": "stream",
     "text": [
      "Enter length of a rectangle:60\n",
      "Enter breadth of a rectangle:60\n",
      "Rectangle is a Square\n"
     ]
    }
   ],
   "source": [
    "l=int(input(\"Enter length of a rectangle:\"))\n",
    "b=int(input(\"Enter breadth of a rectangle:\"))\n",
    "if l==b:\n",
    "    print(\"Rectangle is a Square\")\n",
    "if l!=b:\n",
    "    print(\"Rectangle is not a Square\")"
   ]
  },
  {
   "cell_type": "code",
   "execution_count": 14,
   "id": "acdba905",
   "metadata": {},
   "outputs": [
    {
     "name": "stdout",
     "output_type": "stream",
     "text": [
      "Enter age of first person:60\n",
      "Enter age of second person:40\n",
      "Enter age of third person:12\n",
      "Age of oldest person is: 60\n",
      "Age of youngest person is: 12\n"
     ]
    }
   ],
   "source": [
    "a1=int(input(\"Enter age of first person:\"))\n",
    "a2=int(input(\"Enter age of second person:\"))\n",
    "a3=int(input(\"Enter age of third person:\"))\n",
    "if a1>a2>a3:\n",
    "   print(\"Age of oldest person is:\",a1)\n",
    "   print(\"Age of youngest person is:\",a3)\n",
    "if a2>a3>a1:\n",
    "   print(\"Age of oldest person is:\",a2)\n",
    "   print(\"Age of youngest person is:\",a1)\n",
    "if a3>a2>a1:\n",
    "   print(\"Age of oldest person is:\",a3)\n",
    "   print(\"Age of youngest person is:\",a1)\n",
    "if a3>a1>a2:\n",
    "   print(\"Age of oldest person is:\",a3)\n",
    "   print(\"Age of youngest person is\",a2)"
   ]
  },
  {
   "cell_type": "code",
   "execution_count": null,
   "id": "1c01ab14",
   "metadata": {},
   "outputs": [],
   "source": []
  }
 ],
 "metadata": {
  "kernelspec": {
   "display_name": "Python 3 (ipykernel)",
   "language": "python",
   "name": "python3"
  },
  "language_info": {
   "codemirror_mode": {
    "name": "ipython",
    "version": 3
   },
   "file_extension": ".py",
   "mimetype": "text/x-python",
   "name": "python",
   "nbconvert_exporter": "python",
   "pygments_lexer": "ipython3",
   "version": "3.9.13"
  }
 },
 "nbformat": 4,
 "nbformat_minor": 5
}
