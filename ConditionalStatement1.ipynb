{
 "cells": [
  {
   "cell_type": "code",
   "execution_count": 1,
   "id": "220d7052",
   "metadata": {},
   "outputs": [
    {
     "name": "stdout",
     "output_type": "stream",
     "text": [
      "8\n",
      "Number is Even\n"
     ]
    }
   ],
   "source": [
    "num=int(input())\n",
    "if num%2==0:\n",
    "    print(\"Number is Even\")\n",
    "if num%2==1:\n",
    "    print(\"Number is Odd\")"
   ]
  },
  {
   "cell_type": "code",
   "execution_count": 2,
   "id": "00a058c8",
   "metadata": {},
   "outputs": [
    {
     "name": "stdout",
     "output_type": "stream",
     "text": [
      "Enter the letter:o\n",
      "Alphabet is vowel\n"
     ]
    }
   ],
   "source": [
    "x=input(\"Enter the letter:\")\n",
    "vowel=('a','e','i','o','u')\n",
    "if x in vowel:\n",
    "    print(\"Alphabet is vowel\")\n",
    "else:\n",
    "    print(\"Alphabet is consonant\")"
   ]
  },
  {
   "cell_type": "code",
   "execution_count": 4,
   "id": "01a81d4d",
   "metadata": {},
   "outputs": [
    {
     "name": "stdout",
     "output_type": "stream",
     "text": [
      "16\n",
      "Not Allowed!\n"
     ]
    }
   ],
   "source": [
    "age=int(input())\n",
    "if age>=18:\n",
    "    print(\"Allowed to vote\")\n",
    "else:\n",
    "    print(\"Not Allowed!\")"
   ]
  },
  {
   "cell_type": "code",
   "execution_count": 8,
   "id": "8c136a9b",
   "metadata": {},
   "outputs": [
    {
     "name": "stdout",
     "output_type": "stream",
     "text": [
      "Enter the number:-9\n",
      "Number is Negative\n"
     ]
    }
   ],
   "source": [
    "num=int(input(\"Enter the number:\"))\n",
    "if num==0:\n",
    "    print(\"Number is Zero\")\n",
    "elif num<0:\n",
    "    print(\"Number is Negative\")\n",
    "elif num>0:\n",
    "    print(\"Number is Positive\")\n"
   ]
  },
  {
   "cell_type": "code",
   "execution_count": 10,
   "id": "58910074",
   "metadata": {},
   "outputs": [
    {
     "name": "stdout",
     "output_type": "stream",
     "text": [
      "Enter the year:2020\n",
      "Year is NOT a leap year\n"
     ]
    }
   ],
   "source": [
    "year=int(input(\"Enter the year:\"))\n",
    "if (year%4==0 and year%100==0)or(year%400==0):\n",
    "    print(\"Year is leap year\")\n",
    "else:\n",
    "    print(\"Year is NOT a leap year\")"
   ]
  },
  {
   "cell_type": "code",
   "execution_count": 14,
   "id": "8275a7a7",
   "metadata": {},
   "outputs": [
    {
     "name": "stdout",
     "output_type": "stream",
     "text": [
      "Enter first side of a triangle:1\n",
      "Enter second side of a triangle:3\n",
      "Enter third side of a triangle:3\n",
      "It is an isosceles triangle\n"
     ]
    }
   ],
   "source": [
    "s1=int(input(\"Enter first side of a triangle:\"))\n",
    "s2=int(input(\"Enter second side of a triangle:\"))\n",
    "s3=int(input(\"Enter third side of a triangle:\"))\n",
    "if s1==s2==s3:\n",
    "    print(\"It is an equilateral triangle\")\n",
    "elif s1==s2 or s2==s3 or s3==s1:\n",
    "    print(\"It is an isosceles triangle\")\n",
    "elif s1!=s2 and s2!=s3 and s3!=s1:\n",
    "    print(\"It is a scalene triangle\")"
   ]
  },
  {
   "cell_type": "code",
   "execution_count": 17,
   "id": "d07b2c1d",
   "metadata": {},
   "outputs": [
    {
     "name": "stdout",
     "output_type": "stream",
     "text": [
      "Enter the selling price:600\n",
      "Enter the cost price:800\n",
      "Made a loss of rs: 200\n"
     ]
    }
   ],
   "source": [
    "SP=int(input(\"Enter the selling price:\"))\n",
    "CP=int(input(\"Enter the cost price:\"))\n",
    "P=SP-CP\n",
    "if SP>CP:\n",
    "    print(\"Made a profit of rs:\",P)\n",
    "L=CP-SP\n",
    "if SP<CP:\n",
    "    print(\"Made a loss of rs:\",L)\n",
    "if SP==CP:\n",
    "    print(\"No loss No Profit\")"
   ]
  },
  {
   "cell_type": "code",
   "execution_count": null,
   "id": "16ab1351",
   "metadata": {},
   "outputs": [],
   "source": []
  }
 ],
 "metadata": {
  "kernelspec": {
   "display_name": "Python 3 (ipykernel)",
   "language": "python",
   "name": "python3"
  },
  "language_info": {
   "codemirror_mode": {
    "name": "ipython",
    "version": 3
   },
   "file_extension": ".py",
   "mimetype": "text/x-python",
   "name": "python",
   "nbconvert_exporter": "python",
   "pygments_lexer": "ipython3",
   "version": "3.9.13"
  }
 },
 "nbformat": 4,
 "nbformat_minor": 5
}
