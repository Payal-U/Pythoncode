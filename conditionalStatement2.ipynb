{
 "cells": [
  {
   "cell_type": "code",
   "execution_count": 9,
   "id": "7f4572ed",
   "metadata": {},
   "outputs": [
    {
     "name": "stdout",
     "output_type": "stream",
     "text": [
      "Enter the first number:25\n",
      "Enter the second number:620\n",
      "Number which is greater 620\n"
     ]
    }
   ],
   "source": [
    "a=int(input(\"Enter the first number:\"))\n",
    "b=int(input(\"Enter the second number:\"))\n",
    "if a>b:\n",
    "    print(\"Number which is greater:\",a)\n",
    "if a<b:\n",
    "    print(\"Number which is greater\",b)"
   ]
  },
  {
   "cell_type": "code",
   "execution_count": 11,
   "id": "040473dd",
   "metadata": {},
   "outputs": [
    {
     "name": "stdout",
     "output_type": "stream",
     "text": [
      "Enter the first number:60\n",
      "Enter the second number:18\n",
      "The smallest number is: 18\n"
     ]
    }
   ],
   "source": [
    "a=int(input(\"Enter the first number:\"))\n",
    "b=int(input(\"Enter the second number:\"))\n",
    "if a>b:\n",
    "    print(\"The smallest number is:\",b)\n",
    "if a<b:\n",
    "    print(\"The smallest number is:\",a)"
   ]
  },
  {
   "cell_type": "code",
   "execution_count": 13,
   "id": "5e9e07ee",
   "metadata": {},
   "outputs": [
    {
     "name": "stdout",
     "output_type": "stream",
     "text": [
      "Enter the first number:25\n",
      "Enter the second number:60\n",
      "Enter the third number30\n",
      "The greatest number is: 60\n"
     ]
    }
   ],
   "source": [
    "a=int(input(\"Enter the first number:\"))\n",
    "b=int(input(\"Enter the second number:\"))\n",
    "c=int(input(\"Enter the third number\"))\n",
    "if a>b and a>c:\n",
    "    print(\"The greatest number is:\",a)\n",
    "if a<b and b>c:\n",
    "    print(\"The greatest number is:\",b)\n",
    "if a<c and b<c:\n",
    "    print(\"The greatest number is:\",c)"
   ]
  },
  {
   "cell_type": "code",
   "execution_count": 1,
   "id": "27f75a88",
   "metadata": {},
   "outputs": [
    {
     "name": "stdout",
     "output_type": "stream",
     "text": [
      "Enter the first number:12\n",
      "Enter the second number:13\n",
      "Enter the third number:15\n",
      "The smallest number is: 12\n"
     ]
    }
   ],
   "source": [
    "a=int(input(\"Enter the first number:\"))\n",
    "b=int(input(\"Enter the second number:\"))\n",
    "c=int(input(\"Enter the third number:\"))\n",
    "if a<b and a<c:\n",
    "    print(\"The smallest number is:\",a)\n",
    "if b<c and b<a:\n",
    "    print(\"The smallest number is:\",b)\n",
    "if c<a and c<b:\n",
    "    print(\"The smallest number is:\",c)"
   ]
  },
  {
   "cell_type": "code",
   "execution_count": 6,
   "id": "a18fed28",
   "metadata": {},
   "outputs": [
    {
     "name": "stdout",
     "output_type": "stream",
     "text": [
      "quadratic equation:ax^2+bx+c\n",
      "Coefficient of x^2:2\n",
      "Coefficient of x:-7\n",
      "Constant term:3\n",
      "Roots are real\n",
      "first root: 12.0\n",
      "second root: 2.0\n"
     ]
    }
   ],
   "source": [
    "print(\"quadratic equation:ax^2+bx+c\")\n",
    "a=int(input(\"Coefficient of x^2:\"))\n",
    "b=int(input(\"Coefficient of x:\"))\n",
    "c=int(input(\"Constant term:\"))\n",
    "D=(b**2-4*a*c)\n",
    "d=D**0.5\n",
    "if D>0:\n",
    "    r1=(-b+d)/2*a\n",
    "    r2=(-b-d)/2*a\n",
    "    print(\"Roots are real\")\n",
    "    print(\"first root:\",r1)\n",
    "    print(\"second root:\",r2)\n",
    "if D==0:\n",
    "    r1=-b/2*a\n",
    "    r2=-b/2*a\n",
    "    print(\"Roots are real and identical\")\n",
    "    print(\"first root:\",r1)\n",
    "    print(\"second root:\",r2)\n",
    "if D<0:\n",
    "    print(\"Roots are imaginary\")"
   ]
  },
  {
   "cell_type": "code",
   "execution_count": 8,
   "id": "a62d0c92",
   "metadata": {},
   "outputs": [
    {
     "name": "stdout",
     "output_type": "stream",
     "text": [
      "Enter any number from 1-7:5\n",
      "Thursday\n"
     ]
    }
   ],
   "source": [
    "num=int(input(\"Enter any number from 1-7:\"))\n",
    "if num==1:\n",
    "    print(\"Sunday\")\n",
    "elif num==2:\n",
    "    print(\"Monday\")\n",
    "elif num==3:\n",
    "    print(\"Tuesday\")\n",
    "elif num==4:\n",
    "    print(\"Wednesday\")\n",
    "elif num==5:\n",
    "    print(\"Thursday\")\n",
    "elif num==6:\n",
    "    print(\"Friday\")\n",
    "elif num==7:\n",
    "    print(\"Saturday\")\n",
    "else:\n",
    "   print(\"Invalid number\")"
   ]
  },
  {
   "cell_type": "code",
   "execution_count": null,
   "id": "3c994acc",
   "metadata": {},
   "outputs": [],
   "source": []
  }
 ],
 "metadata": {
  "kernelspec": {
   "display_name": "Python 3 (ipykernel)",
   "language": "python",
   "name": "python3"
  },
  "language_info": {
   "codemirror_mode": {
    "name": "ipython",
    "version": 3
   },
   "file_extension": ".py",
   "mimetype": "text/x-python",
   "name": "python",
   "nbconvert_exporter": "python",
   "pygments_lexer": "ipython3",
   "version": "3.9.13"
  }
 },
 "nbformat": 4,
 "nbformat_minor": 5
}
