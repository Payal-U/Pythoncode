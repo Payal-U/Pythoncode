{
 "cells": [
  {
   "cell_type": "code",
   "execution_count": 1,
   "id": "ce802d2f",
   "metadata": {},
   "outputs": [
    {
     "name": "stdout",
     "output_type": "stream",
     "text": [
      "Enter number between 1-12:12\n",
      "December\n"
     ]
    }
   ],
   "source": [
    "num=int(input(\"Enter number between 1-12:\"))\n",
    "if num==1:\n",
    "    print(\"January\")\n",
    "elif num==2:\n",
    "    print(\"February\")\n",
    "elif num==3:\n",
    "    print(\"March\")\n",
    "elif num==4:\n",
    "    print(\"April\")\n",
    "elif num==5:\n",
    "    print(\"May\")\n",
    "elif num==6:\n",
    "    print(\"June\")\n",
    "elif num==7:\n",
    "    print(\"July\")\n",
    "elif num==8:\n",
    "    print(\"August\")\n",
    "elif num==9:\n",
    "    print(\"September\")\n",
    "elif num==10:\n",
    "    print(\"October\")\n",
    "elif num==11:\n",
    "    print(\"November\")\n",
    "elif num==12:\n",
    "    print(\"December\")\n",
    "else:\n",
    "    print(\"Invalid entry\")"
   ]
  },
  {
   "cell_type": "code",
   "execution_count": 6,
   "id": "50601965",
   "metadata": {},
   "outputs": [
    {
     "name": "stdout",
     "output_type": "stream",
     "text": [
      "Note the instructions given below\n",
      "Enter 1 for Addition\n",
      "Enter 2 for Subtraction\n",
      "Enter 3 for Multiplication\n",
      "Enter 4 for Division\n",
      "Enter any number from 1-4 for operation to be used:4\n",
      "Enter first number:6\n",
      "Enter second number:3\n",
      "The division between two numbers is: 2.0\n"
     ]
    }
   ],
   "source": [
    "print(\"Note the instructions given below\")\n",
    "print(\"Enter 1 for Addition\")\n",
    "print(\"Enter 2 for Subtraction\")\n",
    "print(\"Enter 3 for Multiplication\")\n",
    "print(\"Enter 4 for Division\")\n",
    "X=int(input(\"Enter any number from 1-4 for operation to be used:\"))\n",
    "n1=int(input(\"Enter first number:\"))\n",
    "n2=int(input(\"Enter second number:\"))\n",
    "if X==1:\n",
    "    sum=n1+n2\n",
    "    print(\"The sum of two numbers is:\",sum)\n",
    "if X==2:\n",
    "    difference=n1-n2\n",
    "    print(\"The difference between two numbers is:\", difference)\n",
    "if X==3:\n",
    "    product=n1*n2\n",
    "    print(\"The product between two numbers is:\",product)\n",
    "if X==4:\n",
    "    Division=n1/n2\n",
    "    print(\"The division between two numbers is:\", Division)\n"
   ]
  },
  {
   "cell_type": "code",
   "execution_count": 7,
   "id": "696b2f63",
   "metadata": {},
   "outputs": [
    {
     "name": "stdout",
     "output_type": "stream",
     "text": [
      "Enter celsius degree temperature:300\n",
      "Temperature in Fahrenheit is: 572.0\n"
     ]
    }
   ],
   "source": [
    "T=int(input(\"Enter celsius degree temperature:\"))\n",
    "F=(T*1.8)+32\n",
    "print(\"Temperature in Fahrenheit is:\",F)"
   ]
  },
  {
   "cell_type": "code",
   "execution_count": null,
   "id": "37b06c9a",
   "metadata": {},
   "outputs": [],
   "source": []
  }
 ],
 "metadata": {
  "kernelspec": {
   "display_name": "Python 3 (ipykernel)",
   "language": "python",
   "name": "python3"
  },
  "language_info": {
   "codemirror_mode": {
    "name": "ipython",
    "version": 3
   },
   "file_extension": ".py",
   "mimetype": "text/x-python",
   "name": "python",
   "nbconvert_exporter": "python",
   "pygments_lexer": "ipython3",
   "version": "3.9.13"
  }
 },
 "nbformat": 4,
 "nbformat_minor": 5
}
