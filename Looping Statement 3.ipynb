{
 "cells": [
  {
   "cell_type": "code",
   "execution_count": 2,
   "id": "a4f31013",
   "metadata": {},
   "outputs": [
    {
     "name": "stdout",
     "output_type": "stream",
     "text": [
      "9845764721\n",
      "10\n"
     ]
    }
   ],
   "source": [
    "num=input()\n",
    "x=len(num)\n",
    "print(x)"
   ]
  },
  {
   "cell_type": "code",
   "execution_count": 6,
   "id": "0951bb7f",
   "metadata": {},
   "outputs": [
    {
     "name": "stdout",
     "output_type": "stream",
     "text": [
      "Enter the value of 'N':5\n",
      "Fabinocci series:01123"
     ]
    }
   ],
   "source": [
    "#fabinocci series\n",
    "N=int(input(\"Enter the value of 'N':\"))\n",
    "a=0\n",
    "b=1\n",
    "sum=0\n",
    "count=1\n",
    "print(\"Fabinocci series:\",end=\"\")\n",
    "while(count<=N):\n",
    "    print(sum,end=\"\")\n",
    "    count+=1\n",
    "    a=b\n",
    "    b=sum\n",
    "    sum=a+b\n"
   ]
  },
  {
   "cell_type": "code",
   "execution_count": 7,
   "id": "1af1bbf9",
   "metadata": {},
   "outputs": [
    {
     "name": "stdout",
     "output_type": "stream",
     "text": [
      "Enter three digit number:153\n",
      "The number is Armstrong number\n"
     ]
    }
   ],
   "source": [
    "#check whether the number is armstrong number or not\n",
    "num=int(input(\"Enter three digit number:\"))\n",
    "sum=0\n",
    "temp=num\n",
    "while temp>0:\n",
    "    digit=temp%10\n",
    "    sum+=digit*digit*digit\n",
    "    temp=temp//10\n",
    "if sum==num:\n",
    "    print(\"The number is Armstrong number\")\n",
    "else:\n",
    "    print(\"The number is not Armstrong number\")"
   ]
  },
  {
   "cell_type": "code",
   "execution_count": null,
   "id": "f45f5422",
   "metadata": {},
   "outputs": [],
   "source": [
    "#number is strong or not\n"
   ]
  }
 ],
 "metadata": {
  "kernelspec": {
   "display_name": "Python 3 (ipykernel)",
   "language": "python",
   "name": "python3"
  },
  "language_info": {
   "codemirror_mode": {
    "name": "ipython",
    "version": 3
   },
   "file_extension": ".py",
   "mimetype": "text/x-python",
   "name": "python",
   "nbconvert_exporter": "python",
   "pygments_lexer": "ipython3",
   "version": "3.9.13"
  }
 },
 "nbformat": 4,
 "nbformat_minor": 5
}
